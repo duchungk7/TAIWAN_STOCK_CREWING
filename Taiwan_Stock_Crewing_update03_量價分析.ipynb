{
 "cells": [
  {
   "cell_type": "markdown",
   "metadata": {},
   "source": [
    "# 量價分析"
   ]
  },
  {
   "cell_type": "markdown",
   "metadata": {},
   "source": [
    "1. 取出 當天 與 前三天的交易量\n",
    "2. 判斷 量 是否 倍增"
   ]
  },
  {
   "attachments": {
    "%E5%8F%B0%E7%81%A3%E8%AD%89%E5%88%B8%E4%BA%A4%E6%98%93%E6%89%80.png": {
     "image/png": "[encoded data removed]"
    }
   },
   "cell_type": "markdown",
   "metadata": {},
   "source": [
    "![%E5%8F%B0%E7%81%A3%E8%AD%89%E5%88%B8%E4%BA%A4%E6%98%93%E6%89%80.png](attachment:%E5%8F%B0%E7%81%A3%E8%AD%89%E5%88%B8%E4%BA%A4%E6%98%93%E6%89%80.png)"
   ]
  },
  {
   "cell_type": "markdown",
   "metadata": {},
   "source": [
    "台灣證券交易所網站: https://www.twse.com.tw/zh/"
   ]
  },
  {
   "cell_type": "markdown",
   "metadata": {},
   "source": [
    "程式參考網站:https://www.finlab.tw/Python-%E7%B0%A1%E5%96%AE158%E7%A8%AE%E6%8A%80%E8%A1%93%E6%8C%87%E6%A8%99%E8%A8%88%E7%AE%97/"
   ]
  },
  {
   "cell_type": "markdown",
   "metadata": {},
   "source": [
    "讀取 30天 資料"
   ]
  },
  {
   "cell_type": "markdown",
   "metadata": {},
   "source": [
    "## 只有上市 部分"
   ]
  },
  {
   "cell_type": "code",
   "execution_count": null,
   "metadata": {},
   "outputs": [],
   "source": [
    "import requests\n",
    "from io import StringIO\n",
    "import pandas as pd\n",
    "import numpy as np\n",
    "\n",
    "def crawl_price(date):\n",
    "    # 下載股價\n",
    "    r = requests.post('http://www.twse.com.tw/exchangeReport/MI_INDEX?response=csv&date=' + str(date).split(' ')[0].replace('-','') + '&type=ALL')\n",
    "    \n",
    "    # 整理資料，變成表格\n",
    "    ret = pd.read_csv(StringIO(\"\\n\".join([i.translate({ord(c): None for c in ' '}) \n",
    "                                        for i in r.text.split('\\n') \n",
    "                                        if len(i.split('\",')) == 17 and i[0] != '='])), header=0)\n",
    "    ret = ret.set_index('證券代號')\n",
    "    ret['成交金額'] = ret['成交金額'].str.replace(',','')\n",
    "    ret['成交股數'] = ret['成交股數'].str.replace(',','')\n",
    "    return ret"
   ]
  },
  {
   "cell_type": "markdown",
   "metadata": {},
   "source": [
    "呼叫每日爬蟲，連續爬 n 天\n",
    "接下來我們就來利用這個 function 幫我們爬最近30天的資料，並將數據存在 data 這個 variable 中：\n",
    "\n",
    "一次爬 n_days 天的股價"
   ]
  },
  {
   "cell_type": "markdown",
   "metadata": {},
   "source": [
    "大部分的天數都是 success 代表成功讀取資料，但是每間隔5天就會顯示兩次 fail，代表那可能是假日，然而不能保證就是了，也可能是你的網路斷掉XD，或是 code 有bug，就要單獨做測試，至少在我的電腦裡，它抓的滿好的。"
   ]
  },
  {
   "cell_type": "markdown",
   "metadata": {},
   "source": [
    "# 參數 設定"
   ]
  },
  {
   "cell_type": "code",
   "execution_count": null,
   "metadata": {},
   "outputs": [],
   "source": [
    "#讀取 往前 天數資料  預設為 10 天\n",
    "n_days = 5"
   ]
  },
  {
   "cell_type": "code",
   "execution_count": null,
   "metadata": {},
   "outputs": [],
   "source": [
    "import datetime\n",
    "import time\n",
    "\n",
    "data = {}\n",
    "date = datetime.datetime.now()\n",
    "fail_count = 0\n",
    "allow_continuous_fail_count = 5\n",
    "while len(data) < n_days:\n",
    "\n",
    "    print('parsing', date)\n",
    "    # 使用 crawPrice 爬資料\n",
    "    try:\n",
    "        # 抓資料\n",
    "        data[date.date()] = crawl_price(date)\n",
    "        print('success!')\n",
    "        fail_count = 0\n",
    "    except:\n",
    "        # 假日爬不到\n",
    "        print('fail! check the date is holiday')\n",
    "        fail_count += 1\n",
    "        if fail_count == allow_continuous_fail_count:\n",
    "            #raise\n",
    "            break\n",
    "    \n",
    "    # 減一天\n",
    "    date -= datetime.timedelta(days=1)\n",
    "    time.sleep(10)"
   ]
  },
  {
   "cell_type": "code",
   "execution_count": null,
   "metadata": {},
   "outputs": [],
   "source": [
    "data"
   ]
  },
  {
   "cell_type": "markdown",
   "metadata": {},
   "source": [
    "整理 data 轉成 收盤價 time series\n",
    "接下來我們來看一下得到了什麼："
   ]
  },
  {
   "cell_type": "code",
   "execution_count": null,
   "metadata": {},
   "outputs": [],
   "source": [
    "data[datetime.date(2020,8,17)]"
   ]
  },
  {
   "cell_type": "code",
   "execution_count": null,
   "metadata": {},
   "outputs": [],
   "source": [
    "data[datetime.date(2020,8,17)]['本益比']"
   ]
  },
  {
   "cell_type": "markdown",
   "metadata": {},
   "source": [
    "不同的日期，可以得到不同的表。但這並不是我們想要的，我們想要有 time series，也就是看到某個欄位隨時間變動的圖表，於是我們做以下的轉換："
   ]
  },
  {
   "cell_type": "markdown",
   "metadata": {},
   "source": [
    "在下面的程式中，現在我們只拿所有股票的 收盤價，並建構 close 這個 dataframe"
   ]
  },
  {
   "cell_type": "code",
   "execution_count": null,
   "metadata": {},
   "outputs": [],
   "source": [
    "close = pd.DataFrame({k:d['收盤價'] for k,d in data.items()}).transpose()\n",
    "close.index = pd.to_datetime(close.index)\n",
    "close"
   ]
  },
  {
   "cell_type": "code",
   "execution_count": null,
   "metadata": {},
   "outputs": [],
   "source": [
    "open = pd.DataFrame({k:d['開盤價'] for k,d in data.items()}).transpose()\n",
    "open.index = pd.to_datetime(open.index)\n",
    "open"
   ]
  },
  {
   "cell_type": "code",
   "execution_count": null,
   "metadata": {},
   "outputs": [],
   "source": [
    "high = pd.DataFrame({k:d['最高價'] for k,d in data.items()}).transpose()\n",
    "high.index = pd.to_datetime(high.index)\n",
    "high"
   ]
  },
  {
   "cell_type": "code",
   "execution_count": null,
   "metadata": {},
   "outputs": [],
   "source": [
    "low = pd.DataFrame({k:d['最低價'] for k,d in data.items()}).transpose()\n",
    "low.index = pd.to_datetime(low.index)\n",
    "low"
   ]
  },
  {
   "cell_type": "code",
   "execution_count": null,
   "metadata": {},
   "outputs": [],
   "source": [
    "volume = pd.DataFrame({k:d['成交股數'] for k,d in data.items()}).transpose()\n",
    "volume.index = pd.to_datetime(volume.index)\n",
    "volume"
   ]
  },
  {
   "cell_type": "markdown",
   "metadata": {},
   "source": [
    "open、high、low 跟 volume 統整好後，再將我們想看的股票拿出來，我們以近年超紅的台積電。\n",
    "\n",
    "把其中的股票拿出來，變成 dict 結構"
   ]
  },
  {
   "cell_type": "code",
   "execution_count": null,
   "metadata": {},
   "outputs": [],
   "source": [
    "tsmc = {\n",
    "    'close':close['6412']['2020'].dropna().astype(float),\n",
    "    'open':open['6412']['2020'].dropna().astype(float),\n",
    "    'high':high['6412']['2020'].dropna().astype(float),\n",
    "    'low':low['6412']['2020'].dropna().astype(float),\n",
    "    'volume': volume['6412']['2020'].dropna().astype(float),\n",
    "}\n",
    "\n",
    "tsmc['close'].plot()"
   ]
  },
  {
   "cell_type": "code",
   "execution_count": null,
   "metadata": {},
   "outputs": [],
   "source": [
    "volume['1101'][0]"
   ]
  },
  {
   "cell_type": "code",
   "execution_count": null,
   "metadata": {},
   "outputs": [],
   "source": [
    "volume['1101'][1]"
   ]
  },
  {
   "cell_type": "code",
   "execution_count": null,
   "metadata": {},
   "outputs": [],
   "source": [
    "volume.columns[0]"
   ]
  },
  {
   "cell_type": "code",
   "execution_count": null,
   "metadata": {},
   "outputs": [],
   "source": [
    "volume.columns[1]"
   ]
  },
  {
   "cell_type": "code",
   "execution_count": null,
   "metadata": {},
   "outputs": [],
   "source": []
  },
  {
   "cell_type": "code",
   "execution_count": null,
   "metadata": {},
   "outputs": [],
   "source": []
  },
  {
   "cell_type": "markdown",
   "metadata": {},
   "source": [
    "# 將資料寫入 csv 檔案"
   ]
  },
  {
   "cell_type": "code",
   "execution_count": null,
   "metadata": {},
   "outputs": [],
   "source": [
    "#用to_csv存檔，並命名為 \"股票代號.csv\"\n",
    "#df.to_csv(sid+'.csv')"
   ]
  },
  {
   "cell_type": "code",
   "execution_count": null,
   "metadata": {},
   "outputs": [],
   "source": []
  },
  {
   "cell_type": "code",
   "execution_count": null,
   "metadata": {},
   "outputs": [],
   "source": []
  },
  {
   "cell_type": "markdown",
   "metadata": {},
   "source": [
    "(base) C:\\Users\\duchu>pip install TA_Lib-0.4.18-cp37-cp37m-win_amd64.whl"
   ]
  },
  {
   "cell_type": "markdown",
   "metadata": {},
   "source": [
    "# KD 值計算"
   ]
  },
  {
   "cell_type": "markdown",
   "metadata": {},
   "source": [
    "橘色、藍色代表的就是KD值。而紫色的就是收盤價！"
   ]
  },
  {
   "cell_type": "code",
   "execution_count": null,
   "metadata": {},
   "outputs": [],
   "source": [
    "# 參考\n",
    "#分別 計算 K 和 D 值\n",
    "K,D = talib.STOCH(high, \n",
    "                  low, \n",
    "                  close,\n",
    "                  fastk_period=9,\n",
    "                  slowk_period=3,\n",
    "                  slowk_matype=0,\n",
    "                  slowd_period=3,\n",
    "                  slowd_matype=0)\n",
    "\n",
    "slowk, slowd = ta.STOCH(high,low,close, fastk_period=9, slowk_period=3, slowk_matype=0, slowd_period=3, slowd_matype=0)\n",
    "    slowkMA5 = ta.MA(slowk, timeperiod=5, matype=0)\n",
    "    slowkMA10 = ta.MA(slowk, timeperiod=10, matype=0)\n",
    "    slowkMA20 = ta.MA(slowk, timeperiod=20, matype=0)\n",
    "    slowdMA5 = ta.MA(slowd, timeperiod=5, matype=0)\n",
    "    slowdMA10 = ta.MA(slowd, timeperiod=10, matype=0)\n",
    "    slowdMA20 = ta.MA(slowd, timeperiod=20, matype=0)"
   ]
  },
  {
   "cell_type": "code",
   "execution_count": null,
   "metadata": {},
   "outputs": [],
   "source": [
    "from talib import abstract\n",
    "import talib"
   ]
  },
  {
   "cell_type": "code",
   "execution_count": null,
   "metadata": {},
   "outputs": [],
   "source": [
    "def talib2df(talib_output):\n",
    "    if type(talib_output) == list:\n",
    "        ret = pd.DataFrame(talib_output).transpose()\n",
    "    else:\n",
    "        ret = pd.Series(talib_output)\n",
    "    ret.index = tsmc['close'].index\n",
    "    return ret;\n",
    "\n",
    "#利用 talib.abstract.STOCH 這個函式，來計算KD值，計算好後，再由talib2df將格式轉換成 dataframe 方便我們畫圖\n",
    "talib2df(abstract.STOCH(tsmc)).plot()\n",
    "\n",
    "#我們想要同時顯示tsmc的收盤價，secondary_y 是說我們需要用第二個 y軸，因為KD我們知道是在0～100之間，而台積電股價在200左右\n",
    "tsmc['close'].plot(secondary_y=True)"
   ]
  },
  {
   "cell_type": "markdown",
   "metadata": {},
   "source": [
    "# MACD 計算"
   ]
  },
  {
   "cell_type": "code",
   "execution_count": null,
   "metadata": {},
   "outputs": [],
   "source": [
    "talib2df(abstract.MACD(tsmc)).plot()\n",
    "tsmc['close'].plot(secondary_y=True)"
   ]
  },
  {
   "cell_type": "markdown",
   "metadata": {},
   "source": [
    "# OBV計算"
   ]
  },
  {
   "cell_type": "code",
   "execution_count": null,
   "metadata": {},
   "outputs": [],
   "source": [
    "talib2df(abstract.OBV(tsmc)).plot()\n",
    "tsmc['close'].plot(secondary_y=True)"
   ]
  },
  {
   "cell_type": "markdown",
   "metadata": {},
   "source": [
    "# WILLR 計算"
   ]
  },
  {
   "cell_type": "code",
   "execution_count": null,
   "metadata": {},
   "outputs": [],
   "source": [
    "talib2df(abstract.WILLR(tsmc)).plot()\n",
    "tsmc['close'].plot(secondary_y=True)"
   ]
  },
  {
   "cell_type": "markdown",
   "metadata": {},
   "source": [
    "# ATR 計算"
   ]
  },
  {
   "cell_type": "code",
   "execution_count": null,
   "metadata": {},
   "outputs": [],
   "source": [
    "talib2df(abstract.ATR(tsmc)).plot()\n",
    "tsmc['close'].plot(secondary_y=True)"
   ]
  },
  {
   "cell_type": "markdown",
   "metadata": {},
   "source": [
    "這些就是可以用的指標，總共有158種，慢慢看，學也學不完XDD。"
   ]
  },
  {
   "cell_type": "code",
   "execution_count": null,
   "metadata": {},
   "outputs": [],
   "source": [
    "talib.get_functions()"
   ]
  },
  {
   "cell_type": "code",
   "execution_count": null,
   "metadata": {},
   "outputs": [],
   "source": []
  },
  {
   "cell_type": "code",
   "execution_count": null,
   "metadata": {},
   "outputs": [],
   "source": []
  }
 ],
 "metadata": {
  "kernelspec": {
   "display_name": "Python 3",
   "language": "python",
   "name": "python3"
  },
  "language_info": {
   "codemirror_mode": {
    "name": "ipython",
    "version": 3
   },
   "file_extension": ".py",
   "mimetype": "text/x-python",
   "name": "python",
   "nbconvert_exporter": "python",
   "pygments_lexer": "ipython3",
   "version": "3.7.4"
  }
 },
 "nbformat": 4,
 "nbformat_minor": 2
}
