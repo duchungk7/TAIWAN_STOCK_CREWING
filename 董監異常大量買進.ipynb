{
 "cells": [
  {
   "cell_type": "code",
   "execution_count": 12,
   "metadata": {},
   "outputs": [],
   "source": [
    "import requests\n",
    "from bs4 import BeautifulSoup\n",
    "###############################################################################\n",
    "#                         股票行動機器人  【Post爬蟲】                        #\n",
    "###############################################################################\n",
    "\n",
    "# 要抓取的網址\n",
    "url = 'https://goodinfo.tw/StockInfo/StockDividendPolicy.asp?STOCK_ID=2409'\n",
    "# 附帶的資料必須要有\n",
    "headers = {'User-Agent': 'Mozilla/5.0 (X11; Linux x86_64) AppleWebKit/537.36 (KHTML, like Gecko) Chrome/70.0.3538.77 Safari/537.36' }\n",
    "\n",
    "#請求網站\n",
    "list_req = requests.post(url, headers = headers)\n",
    "#將整個網站的程式碼爬下來\n",
    "soup = BeautifulSoup(list_req.content, \"html.parser\")"
   ]
  },
  {
   "cell_type": "code",
   "execution_count": 13,
   "metadata": {},
   "outputs": [
    {
     "data": {
      "text/plain": [
       "\n",
       "<!DOCTYPE html PUBLIC \"-//W3C//DTD XHTML 1.0 Transitional//EN\" \"http://www.w3.org/TR/xhtml1/DTD/xhtml1-transitional.dtd\">\n",
       "\n",
       "<html lang=\"zh-Hant\">\n",
       "<head>\n",
       "<meta charset=\"utf-8\"/>\n",
       "<meta content=\"width=device-width\" name=\"viewport\"/>\n",
       "<meta content=\"(2409) 友達 歷年股票股利,現金股利,董監酬勞,員工紅利分派一覽表\" name=\"description\"/>\n",
       "<title>(2409) 友達 歷年股利/股息分配一覽表 - Goodinfo!台灣股市資訊網</title>\n",
       "<link href=\"https://goodinfo.tw/StockInfo/StockDividendPolicy.asp?STOCK_ID=2409&amp;SHOW_ROTC=\" rel=\"canonical\"/>\n",
       "<link href=\"image/Goodinfo.ico\" rel=\"icon\"/>\n",
       "<link href=\"../Library/css/normalize201_UTF-8.css\" rel=\"stylesheet\" type=\"text/css\">\n",
       "<link href=\"../Library/css/Public_UTF-8.css\" rel=\"stylesheet\" type=\"text/css\"/>\n",
       "<link href=\"../Library/jsp/JSCal2-1.8/src/css/jscal2.css\" rel=\"stylesheet\" type=\"text/css\"/>\n",
       "<link href=\"../Library/jsp/JSCal2-1.8/src/css/border-radius.css\" rel=\"stylesheet\" type=\"text/css\"/>\n",
       "<link href=\"../Library/jsp/JSCal2-1.8/src/css/steel/steel.css\" rel=\"stylesheet\" type=\"text/css\"/>\n",
       "<script src=\"../Library/jsp/JSCal2-1.8/src/js/jscal2.js\" type=\"text/JavaScript\"></script>\n",
       "<script src=\"../Library/jsp/JSCal2-1.8/src/js/lang/en.js\" type=\"text/JavaScript\"></script>\n",
       "<script charset=\"utf-8\" src=\"StockLib/initial.asp\" type=\"text/javascript\"></script>\n",
       "<script charset=\"utf-8\" src=\"StockLib/util.asp\" type=\"text/javascript\"></script>\n",
       "<script charset=\"utf-8\" src=\"StockLib/cookie.asp\" type=\"text/javascript\"></script>\n",
       "<script charset=\"utf-8\" src=\"StockLib/ChartClass.asp\" type=\"text/javascript\"></script>\n",
       "<script charset=\"utf-8\" src=\"StockLib/ChartFunction.asp\" type=\"text/javascript\"></script>\n",
       "</link></head>\n",
       "<body onresize=\"SaveScreenSize();RepaintStockChart(StockPainter);\" style=\"font-size:11pt;min-width:1000px;\">\n",
       "<!-- Title -->\n",
       "<div style=\"width:100%;background:rgba(0,0,0,0.3);position:fixed;top:0;z-index:10000;\"><table align=\"center\" border=\"0\" cellpadding=\"0\" cellspacing=\"0\" id=\"MenuMask\" onclick=\"ShowWebSiteMenu();\" style=\"display:none;\" width=\"100%\"><tr height=\"100000px\" valign=\"middle\"><td></td></tr></table></div><div class=\"disable_select\" id=\"divTitleBar\" style=\"min-width:1000px;width:100%;background:translate;position:absolute;top:0;z-index:10002;\"><table align=\"center\" class=\"none_tbl\" style=\"font-size:11pt;\" width=\"1000px\"> <tr height=\"42px\"><td class=\"head_td\"><table><tr><td onclick=\"ShowWebSiteMenu();\" style=\"cursor:pointer;display:none;\" title=\"開啟選單\"><div id=\"FloatMenu\" style=\"width:198px;top:42px;background:lightgray;padding:2px;display:none;position:absolute;\"></div><a style=\"color:black;text-decoration:none;margin:0 12px 0 14px;font-size:24pt;font-weight:bold;font-family:Times New Roman;\">≡</a></td><td>    <a href=\"index.asp\" style=\"color:black;text-decoration:none;font-family:Impact,Times New Roman,新細明體,sans-serif;font-size:22pt;\" target=\"_self\"><nobr>Goodinfo!</nobr></a></td><td style=\"padding-left:3px;padding-top:3px;\"><a href=\"index.asp\" style=\"color:black;text-decoration:none;font-family:新細明體;font-size:17pt;font-weight:bold;\" target=\"_self\"><nobr>台灣股市資訊網</nobr></a></td></tr></table></td><td class=\"head_td\" style=\"padding-top:6px;\"><nobr><a class=\"link_blue\" href=\"StockList.asp\" target=\"_self\">股票代號/名稱</a> <form action=\"\" id=\"frmStockSearch\" method=\"POST\" onsubmit=\"txtStockCode.blur(); return CheckStockID();\" style=\"margin-top:0px;margin-bottom:0px;display: inline;\" target=\"_self\"><input id=\"txtStockCode\" maxlength=\"10\" onblur=\"jsp:if (String(txtStockCode.value).trim() == '') {txtStockCode.value = '股票代號/名稱'; txtStockCode.style.color = 'gray';}\" onfocus=\"jsp:if (txtStockCode.style.color != 'black') {txtStockCode.value = ''; txtStockCode.style.color = 'black';}\" size=\"18\" style=\"color:gray;\" type=\"text\" value=\"股票代號/名稱\"/> <input type=\"submit\" value=\"股票查詢\"/></form></nobr></td><td align=\"right\" class=\"head_td\" style=\"padding-top:7px\"><table><tr><td align=\"right\" style=\"padding:3px 0 0 0;\" valign=\"middle\" width=\"90px\"><nobr><b title=\"選擇以facebook或google帳號登入,\n",
       "以啟用下列個人化功能：\n",
       "1.我的自選股\n",
       "2.我的自訂欄位\n",
       "3.K線圖參數設定\">登入網站</b> </nobr></td><td align=\"center\" style=\"padding:0\" valign=\"middle\"><a href=\"login.asp?STEP=LOGIN&amp;NO_EXPIRE=T&amp;LOGIN_SITE=Google\" id=\"linkLoginGoogle\" target=\"_self\"><img alt=\"使用google帳號進行登入\" border=\"0\" height=\"24px\" src=\"image/social_google_box.png\" title=\"使用google帳號登入,\n",
       "以啟用下列個人化功能：\n",
       "1.我的自選股\n",
       "2.我的自訂欄位\n",
       "3.K線圖參數設定\"/></a></td><td width=\"4px\"></td><td align=\"center\" style=\"padding:0\" valign=\"middle\"><a href=\"login.asp?STEP=LOGIN&amp;NO_EXPIRE=T&amp;LOGIN_SITE=Facebook\" id=\"linkLoginFacebook\" target=\"_self\"><img 0'=\"\" alt=\"使用facebook帳號進行登入 border=\" height=\"24px\" src=\"image/facebookicon.png\" title=\"使用facebook帳號登入,\n",
       "以啟用下列個人化功能：\n",
       "1.我的自選股\n",
       "2.我的自訂欄位\n",
       "3.K線圖參數設定\"/></a></td><td width=\"16px\"></td></tr></table><td class=\"head_td\" width=\"30px\"><img id=\"imgSetTitleBar\" onclick=\"SetTitleBar()\" src=\"image/pushpin0.png\" style=\"cursor:pointer;\" width=\"24px\"/></td></td></tr><tr id=\"ADMask\" style=\"height:14px;display:none;\"><td colspan=\"4\"></td></tr></table></div><table align=\"center\" border=\"0px\" cellpadding=\"0px\" cellspacing=\"0px\" class=\"none_tbl\" style=\"font-size:11pt;\" width=\"1000px\"><tr height=\"42px\"><td></td></tr><tr height=\"14px\"><td></td></tr></table><script type=\"text/javascript\">    function CheckStockID() {          var objInput = frmStockSearch.txtStockCode;          if (String(objInput.value).trim() == '' ||              objInput.value == '股票代號/名稱' && objInput.style.color == 'gray' ||              objInput.value == '查詢字串不可空白' && objInput.style.color == 'red') {              objInput.style.color = 'red';              objInput.value = '查詢字串不可空白';              return false;          };          objInput.style.color = 'gray';          var result = ExecuteAsp('CheckStockID.asp','CALL=AJAX&FUNC=QRY_STOCK&CHK_STR='+encodeURIComponent(objInput.value));          if (result.result) {              var oJSON = JSON.parse(result.responseText);              if (oJSON.ReturnCode == '0') {                  frmStockSearch.action = oJSON.ActivePage;                  return true;              } else if (oJSON.ReturnCode == '2') {                  frmStockSearch.action = oJSON.ActivePage;                  return true;              } else if (oJSON.ReturnCode == '1') {                  objInput.style.color = 'red';                  objInput.value = '此股票不存在';              } else {                  objInput.style.color = 'red';                  objInput.value = '不明錯誤';              }          };          return false;     }     function ShowWebSiteMenu() {         if (MenuMask.style.display != '') {             var bMobileMode = false;             if ('StockDetailMenu' in window) { FloatMenu.innerHTML = StockDetailMenu.innerHTML; }             else if ('IdxMenu' in window) { FloatMenu.innerHTML = IdxMenu.innerHTML; }             else if ('SettingMenu' in window) { FloatMenu.innerHTML = SettingMenu.innerHTML; }             else { FloatMenu.innerHTML = MainMenu.innerHTML; }             if (bMobileMode) {                 FloatMenu.innerHTML = String(FloatMenu.innerHTML).replace(/ height=\"23px\"/gi, ' height=\"50px\"');                 FloatMenu.innerHTML = String(FloatMenu.innerHTML).replace(/ height='23px'/gi, ' height=\\'50px\\'');                 FloatMenu.innerHTML = String(FloatMenu.innerHTML).replace(/font-size:11pt/gi, 'font-size:24pt');                 FloatMenu.innerHTML = String(FloatMenu.innerHTML).replace(/font-size:10pt/gi, 'font-size:23pt');             } else {                 FloatMenu.innerHTML = String(FloatMenu.innerHTML).replace(/ height=\"23px\"/gi, ' height=\"24px\"');                 FloatMenu.innerHTML = String(FloatMenu.innerHTML).replace(/ height='23px'/gi, ' height=\\'24px\\'');                 FloatMenu.innerHTML = String(FloatMenu.innerHTML).replace(/font-size:11pt/gi, 'font-size:12pt');                 FloatMenu.innerHTML = String(FloatMenu.innerHTML).replace(/font-size:10pt/gi, 'font-size:11pt');             }             MenuMask.style.display = '';            FloatMenu.style.display = '';        } else {             MenuMask.style.display = 'none';            FloatMenu.style.display = 'none';        }     }     function SetTitleBar() {         setCookie('FLOAT_TITLE_BAR',(getCookie('FLOAT_TITLE_BAR')=='T'?'F':'T'),3650,'/');         imgSetTitleBar.src = 'image/pushpin' + (getCookie('FLOAT_TITLE_BAR')=='T'?'1':'0') + '.png';         divTitleBar.style.position = (getCookie('FLOAT_TITLE_BAR')=='T'?'fixed':'absolute');    } </script>\n",
       "<!-- Main Frame -->\n",
       "<table align=\"center\" border=\"0px\" cellpadding=\"0px\" cellspacing=\"0px\" style=\"font-size: 9pt\" width=\"1000px\">\n",
       "<tr valign=\"top\">\n",
       "<td width=\"180px\"><div id=\"StockDetailMenu\"><table bgcolor=\"white\" class=\"none_tbl disable_select\" style=\"font-size:11pt\" width=\"100%\"> <tr valign=\"top\"><td align=\"left\" width=\"50%\"> <table bgcolor=\"#eaf3fa\" border=\"0\" cellspacing=\"1\" width=\"99%\"> <tr align=\"center\" height=\"23px\"><td bgcolor=\"#d7e6f4\" class=\"head_td\" style=\"font-size:10pt\">基本分析</td></tr> <tr height=\"23px\"><td> <a class=\"link_blue\" href=\"StockDetail.asp?STOCK_ID=2409\">個股市況</a></td></tr> <tr height=\"23px\"><td> <a class=\"link_blue\" href=\"StockBzPerformance.asp?STOCK_ID=2409\">經營績效</a></td></tr> <tr height=\"23px\"><td> <a '=\"\" class=\"link_blue\" href=\"StockAssetsStatus.asp?STOCK_ID=2409\">資產狀況</a></td></tr> <tr height=\"23px\"><td> <a '=\"\" class=\"link_blue\" href=\"StockCashFlow.asp?STOCK_ID=2409\">現金流量</a></td></tr> <tr height=\"23px\"><td> <a class=\"link_blue\" href=\"ShowSaleMonChart.asp?STOCK_ID=2409\">每月營收</a></td></tr> <tr height=\"23px\"><td> <a class=\"link_blue\" href=\"ShowSaleMonProdChart.asp?STOCK_ID=2409\">產品營收</a></td></tr> <tr height=\"23px\"><td> <a class=\"link_blue\" href=\"BasicInfo.asp?STOCK_ID=2409\">基本資料</a></td></tr> <tr height=\"23px\"><td> <a class=\"link_blue\" href=\"StockAnnounceList.asp?START_DT=2020%2F5%2F16&amp;END_DT=2020%2F6%2F15&amp;STOCK_ID=2409\">新聞及公告</a></td></tr> <tr align=\"center\" height=\"23px\"><td bgcolor=\"#d7e6f4\" class=\"head_td\" colspan=\"2\" style=\"font-size:10pt\">股東權益</td></tr> <tr height=\"23px\"><td> <a class=\"link_blue\" href=\"StockHolderSchedule.asp?STOCK_ID=2409\">股東會日程</a></td></tr> <tr height=\"23px\"><td> <a class=\"link_orange\" href=\"StockDividendPolicy.asp?STOCK_ID=2409\">股利政策</a></td></tr> <tr height=\"23px\"><td> <a class=\"link_blue\" href=\"StockDividendSchedule.asp?STOCK_ID=2409\">除權息日程</a></td></tr> <tr height=\"23px\"><td> <a class=\"link_blue\" href=\"MarginPauseSchedule.asp?STOCK_ID=2409\">停資停券日</a></td></tr> <tr align=\"center\" height=\"23px\"><td bgcolor=\"#d7e6f4\" class=\"head_td\" colspan=\"2\" style=\"font-size:10pt\">財務報表</td></tr> <tr height=\"23px\"><td> <a class=\"link_blue\" href=\"StockFinDetail.asp?RPT_CAT=BS_M_QUAR&amp;STOCK_ID=2409\">資產負債表</a></td></tr> <tr height=\"23px\"><td> <a class=\"link_blue\" href=\"StockFinDetail.asp?RPT_CAT=IS_M_QUAR_ACC&amp;STOCK_ID=2409\">損益表</a></td></tr> <tr height=\"23px\"><td> <a class=\"link_blue\" href=\"StockFinDetail.asp?RPT_CAT=CF_M_QUAR_ACC&amp;STOCK_ID=2409\">現金流量表</a></td></tr> <tr height=\"23px\"><td> <a class=\"link_blue\" href=\"StockFinDetail.asp?RPT_CAT=XX_M_QUAR_ACC&amp;STOCK_ID=2409\">財務比率表</a></td></tr> <tr height=\"23px\"><td> <a class=\"link_blue\" href=\"StockFinGrade.asp?STOCK_ID=2409\">財務評分表</a></td></tr> <tr height=\"23px\"><td> <a class=\"link_blue\" href=\"StockFinCompare.asp?STOCK0=2409\">財報比較</a></td></tr> <tr height=\"23px\"><td> </td></tr> </table> </td><td align=\"right\" width=\"50%\"> <table bgcolor=\"#eaf3fa\" border=\"0\" cellspacing=\"1\" width=\"99%\"> <tr align=\"center\" height=\"23px\"><td bgcolor=\"#d7e6f4\" class=\"head_td\" colspan=\"2\" style=\"font-size:10pt\">籌碼分析</td></tr> <tr height=\"23px\"><td> <a class=\"link_blue\" href=\"ShowBuySaleChart.asp?STOCK_ID=2409&amp;CHT_CAT=DATE\">法人買賣</a></td></tr> <tr height=\"23px\"><td> <a class=\"link_blue\" href=\"ShowBearishChart.asp?STOCK_ID=2409&amp;CHT_CAT=DATE\">融資融券</a></td></tr> <tr height=\"23px\"><td> <a class=\"link_blue\" href=\"DayTrading.asp?STOCK_ID=2409\">現股當沖</a></td></tr> <tr height=\"23px\"><td> <a class=\"link_blue\" href=\"EquityDistributionCatHis.asp?STOCK_ID=2409\">股東結構</a></td></tr> <tr height=\"23px\"><td> <a class=\"link_blue\" href=\"EquityDistributionClassHis.asp?STOCK_ID=2409\">持股分級</a></td></tr> <tr height=\"23px\"><td> <a class=\"link_blue\" href=\"StockDirectorSharehold.asp?STOCK_ID=2409\">董監持股</a></td></tr> <tr height=\"23px\"><td> <a class=\"link_blue\" href=\"EquityTransfer.asp?STOCK_ID=2409\">申報轉讓</a></td></tr> <tr align=\"center\" height=\"23px\"><td bgcolor=\"#d7e6f4\" class=\"head_td\" colspan=\"2\" style=\"font-size:10pt\">技術分析</td></tr> <tr height=\"23px\"><td> <a class=\"link_blue\" href=\"ShowK_Chart.asp?STOCK_ID=2409&amp;CHT_CAT2=DATE\">個股K線圖</a></td></tr> <tr height=\"23px\"><td> <a class=\"link_blue\" href=\"ShowK_ChartCompare.asp?STOCK_ID=2409&amp;STOCK_ID2=&amp;CHT_CAT2=DATE\">K線比較圖</a></td></tr> <tr height=\"23px\"><td> <a class=\"link_blue\" href=\"ShowK_ChartFlow.asp?RPT_CAT=PER&amp;STOCK_ID=2409&amp;CHT_CAT=WEEK\" style=\"font-size:10pt\">本益比河流圖</a></td></tr> <tr height=\"23px\"><td> <a class=\"link_blue\" href=\"ShowK_ChartFlow.asp?RPT_CAT=PBR&amp;STOCK_ID=2409&amp;CHT_CAT=WEEK\" style=\"font-size:10pt\">本淨比河流圖</a></td></tr> <tr height=\"23px\"><td> <a class=\"link_blue\" href=\"ShowK_ChartFlow.asp?RPT_CAT=DR%5F3M&amp;STOCK_ID=2409&amp;CHT_CAT=WEEK\" style=\"font-size:10pt\">乖離率河流圖</a></td></tr> <tr height=\"23px\"><td> <a class=\"link_blue\" href=\"StockHisAnaQuar.asp?STOCK_ID=2409\">季漲跌統計</a></td></tr> <tr height=\"23px\"><td> <a class=\"link_blue\" href=\"StockHisAnaMonth.asp?STOCK_ID=2409\">月漲跌統計</a></td></tr> <tr align=\"center\" height=\"23px\"><td bgcolor=\"#d7e6f4\" class=\"head_td\" colspan=\"2\" style=\"font-size:10pt\">其他</td></tr> <tr height=\"23px\"><td> <a class=\"link_blue\" href=\"CheckStockID.asp?FUNC=LAST_STOCK&amp;CHK_STR=2409\">上一檔股票</a></td></tr> <tr height=\"23px\"><td> <a class=\"link_blue\" href=\"CheckStockID.asp?FUNC=NEXT_STOCK&amp;CHK_STR=2409\">下一檔股票</a></td></tr> <tr height=\"23px\"><td><nobr> <a class=\"link_blue\" href=\"StockIdxDetail.asp?STOCK_ID=%E5%8A%A0%E6%AC%8A%E6%8C%87%E6%95%B8\">上市大盤</a></nobr></td></tr> <tr height=\"23px\"><td><nobr> <a class=\"link_blue\" href=\"StockIdxDetail.asp?STOCK_ID=%E6%AB%83%E8%B2%B7%E6%8C%87%E6%95%B8\">上櫃大盤</a></nobr></td></tr> <tr height=\"23px\"><td><nobr> <a class=\"link_blue\" href=\"index.asp\" target=\"_self\">回到首頁</a></nobr></td></tr> </table> </td></tr></table></div><p style=\"margin: 0 0 14px 0\"></p><div id=\"StickyAD\" style=\"position:relative;top:0px;left:0px;padding:0;\"><table class=\"none_tbl\" id=\"AD18\" style=\"height:632px;\" width=\"100%\"><tr height=\"16px\"><td></td></tr><tr height=\"600px\"><td align=\"center\" style=\"position:relative;\" valign=\"middle\"><div onclick='var o=this;o.style.display=\"none\";setTimeout(function(){o.style.display=\"\";},2000);' style=\"z-index:100;position:absolute;left:50%;transform:translateX(-50%);width:164px;height:10px;\"></div><div onclick='var o=this;o.style.display=\"none\";setTimeout(function(){o.style.display=\"\";},2000);' style=\"z-index:100;position:absolute;left:50%;top:100%;transform:translate(-50%,-9px);width:164px;height:10px;\"></div><div onclick='var o=this;o.style.display=\"none\";setTimeout(function(){o.style.display=\"\";},2000);' style=\"z-index:100;position:absolute;left:50%;transform:translateX(-91px);width:10px;height:601px;\"></div><div onclick='var o=this;o.style.display=\"none\";setTimeout(function(){o.style.display=\"\";},2000);' style=\"z-index:100;position:absolute;left:50%;transform:translateX(81px);width:10px;height:601px;\"></div><div id=\"DFP_4236926568\" style=\"width:180px;text-align:center;\"></div></td></tr><tr height=\"16px\"><td></td></tr></table><script type=\"text/javascript\">ADList.push(\"AD18\");googletag.cmd.push(function() {  googletag.defineSlot('/166795457/TW_180x600', [180,600], 'DFP_4236926568').addService(googletag.pubads());  googletag.pubads().enableSingleRequest();  googletag.enableServices();  googletag.display('DFP_4236926568');});</script></div></td><td width=\"8px\"></td>\n",
       "<td>\n",
       "<table align=\"center\" bgcolor=\"white\" border=\"0\" cellpadding=\"0\" cellspacing=\"0\" valing=\"top\" width=\"100%\"> <tr align=\"center\" valign=\"top\"><td height=\"1px\"><table border=\"0\" cellpadding=\"0\" cellspacing=\"0\" class=\"solid_1_padding_3_1_tbl\" style=\"width:100%;font-size:11pt;\"> <tr><td class=\"head_td\" colspan=\"8\"><table class=\"none_tbl\" style=\"width:100%\"><tr align=\"left\" height=\"35px\" valign=\"bottom\"><td style=\"padding:0 2px 5px 20px;width:10px;\"><nobr><a class=\"link_blue\" href=\"StockDetail.asp?STOCK_ID=2409\" style=\"font-size:14pt;font-weight:bold;\">2409 友達</a></nobr></td><td style=\"padding:0 0 5px 10px;width:10px;\"><nobr style=\"cursor:default;font-size:9pt;color:red;background-color:yellow;\">期貨標的</nobr></td><td style=\"padding:0 0 5px 10px;width:10px;\"><nobr style=\"cursor:default;font-size:9pt;color:red;background-color:yellow;\">選擇權標的</nobr></td><td style=\"padding:0 18px 5px 0;text-align:right;\"><nobr style=\"font-size:9pt;color:gray;\">資料日期: 06/15</nobr></td></tr></table></td></tr> <tr align=\"center\" bgcolor=\"#ebf3fa\" height=\"32px\" valign=\"middle\"> <td width=\"13%\"><nobr>成交價</nobr></td> <td width=\"13%\"><nobr>昨收</nobr></td> <td width=\"13%\"><nobr>漲跌價</nobr></td> <td width=\"13%\"><nobr>漲跌幅</nobr></td> <td width=\"13%\"><nobr>振幅</nobr></td> <td width=\"10%\"><nobr>開盤</nobr></td> <td width=\"10%\"><nobr>最高</nobr></td> <td width=\"10%\"><nobr>最低</nobr></td> </tr> <tr align=\"center\" bgcolor=\"white\" height=\"32px\"> <td style=\"font-weight:bold;color:green\">8.91</td> <td>9.1</td> <td style=\"color:green\">-0.19</td> <td style=\"color:green\">-2.09%</td> <td>4.07%</td> <td style=\"color:red\">9.25</td> <td style=\"color:red\">9.27</td> <td style=\"color:green\">8.9</td> </tr> <tr align=\"center\" bgcolor=\"#ebf3fa\" height=\"32px\" valign=\"middle\"> <td><nobr>成交張數</nobr></td> <td><nobr>成交金額</nobr></td> <td><nobr>成交筆數</nobr></td> <td><nobr>成交均張</nobr></td> <td><nobr>成交均價</nobr></td> <td title=\"PBR=成交價/最近一季BPS\"><nobr>PBR</nobr></td> <td title=\"PER=成交價/近四季合計EPS\"><nobr>PER</nobr></td> <td title=\"PEG=PER/近四季合計稅後淨利年成長率\"><nobr>PEG</nobr></td> </tr> <tr align=\"center\" bgcolor=\"white\" height=\"32px\"> <td>87,655</td><td><nobr>7.94 億</nobr></td> <td>13,699</td> <td><nobr>6.4 張/筆</nobr></td> <td><nobr>9.06 元</nobr></td> <td title=\"PBR=成交價/最近一季BPS\">0.5</td> <td title=\"PER=成交價/近四季合計EPS\">N/A</td> <td style=\"color:black\" title=\"PEG=PER/近四季合計稅後淨利年成長率\">N/A</td> </tr> <tr align=\"center\" bgcolor=\"#ebf3fa\" height=\"32px\" valign=\"middle\"> <td><nobr>昨日張數</nobr></td> <td><nobr>昨日金額</nobr></td> <td><nobr>昨日筆數</nobr></td> <td><nobr>昨日均張</nobr></td> <td><nobr>昨日均價</nobr></td> <td colspan=\"3\"><nobr>昨漲跌價 (幅)</nobr></td> </tr> <tr align=\"center\" bgcolor=\"white\" height=\"32px\"> <td>115,840</td><td><nobr>10.39 億</nobr></td> <td>19,230</td> <td><nobr>6 張/筆</nobr></td> <td><nobr>8.97 元</nobr></td> <td colspan=\"3\" style=\"color:green\"><nobr>-0.09 (-0.98%)</nobr></td></tr> <tr align=\"left\" bgcolor=\"#d7e6f4\" height=\"38px\" style=\"font-size:10pt\" valign=\"top\"> <td class=\"head_td\" colspan=\"8\"><p style=\"margin:3px 0 3px 6px;line-height:18px;\"><nobr>連漲連跌: <font style=\"color:green\">連3跌  ( -0.67元 / -6.99%)</font>        <br/>財報評分: <a class=\"link_green\" href=\"StockFinGrade.asp?STOCK_ID=2409&amp;RPT_CAT=M_YEAR\" target=\"_self\" title=\"最近一個財報年度的評分\">最新38分</a> / <span style=\"color:black\" title=\"歷年各年度財報的平均分數\">平均44分</span>        <span style=\"color:blue\"><a class=\"link_blue\" href=\"StockIdxDetail.asp?STOCK_ID=%E5%8A%A0%E6%AC%8A%E6%8C%87%E6%95%B8\" target=\"_self\">上市指數</a>: </span><span style=\"color:green\">11306.26 (-123.68 / -1.08%)</span></nobr></p></td></tr></table></td><td rowspan=\"3\" width=\"8px\"></td><td align=\"center\" rowspan=\"3\" style=\"border:0;padding:0;\" width=\"300px\"><table class=\"none_tbl\" id=\"AD6\" style=\"height:600px;\" width=\"100%\"><tr height=\"0px\"><td></td></tr><tr height=\"600px\"><td align=\"center\" style=\"position:relative;\" valign=\"middle\"><div onclick='var o=this;o.style.display=\"none\";setTimeout(function(){o.style.display=\"\";},2000);' style=\"z-index:100;position:absolute;left:50%;transform:translateX(-50%);width:284px;height:10px;\"></div><div onclick='var o=this;o.style.display=\"none\";setTimeout(function(){o.style.display=\"\";},2000);' style=\"z-index:100;position:absolute;left:50%;top:100%;transform:translate(-50%,-9px);width:284px;height:10px;\"></div><div onclick='var o=this;o.style.display=\"none\";setTimeout(function(){o.style.display=\"\";},2000);' style=\"z-index:100;position:absolute;left:50%;transform:translateX(-151px);width:10px;height:601px;\"></div><div onclick='var o=this;o.style.display=\"none\";setTimeout(function(){o.style.display=\"\";},2000);' style=\"z-index:100;position:absolute;left:50%;transform:translateX(141px);width:10px;height:601px;\"></div><div id=\"DFP_2189437368\" style=\"width:300px;text-align:center;\"></div></td></tr><tr height=\"0px\"><td></td></tr></table><script type=\"text/javascript\">ADList.push(\"AD6\");googletag.cmd.push(function() {  googletag.defineSlot('/166795457/TW_大型摩天大廣告_300x600', [300,600], 'DFP_2189437368').addService(googletag.pubads());  googletag.pubads().enableSingleRequest();  googletag.enableServices();  googletag.display('DFP_2189437368');});</script></td></tr><tr style=\"height:14px;\"><td></td></tr><tr><td align=\"center\" style=\"border:0;padding:0;\" valign=\"middle\"><table class=\"none_tbl\" id=\"AD19\" style=\"height:312px;\" width=\"100%\"><tr height=\"16px\"><td></td></tr><tr height=\"280px\"><td align=\"center\" style=\"position:relative;\" valign=\"middle\"><div onclick='var o=this;o.style.display=\"none\";setTimeout(function(){o.style.display=\"\";},2000);' style=\"z-index:100;position:absolute;left:50%;transform:translateX(-50%);width:484px;height:10px;\"></div><div onclick='var o=this;o.style.display=\"none\";setTimeout(function(){o.style.display=\"\";},2000);' style=\"z-index:100;position:absolute;left:50%;top:100%;transform:translate(-50%,-9px);width:484px;height:10px;\"></div><div onclick='var o=this;o.style.display=\"none\";setTimeout(function(){o.style.display=\"\";},2000);' style=\"z-index:100;position:absolute;left:50%;transform:translateX(-251px);width:10px;height:281px;\"></div><div onclick='var o=this;o.style.display=\"none\";setTimeout(function(){o.style.display=\"\";},2000);' style=\"z-index:100;position:absolute;left:50%;transform:translateX(241px);width:10px;height:281px;\"></div><div id=\"DFP_2517481362\" style=\"width:500px;text-align:center;\"></div></td></tr><tr height=\"16px\"><td></td></tr></table><script type=\"text/javascript\">ADList.push(\"AD19\");googletag.cmd.push(function() {  googletag.defineSlot('/166795457/TW_500x280', [500,280], 'DFP_2517481362').addService(googletag.pubads());  googletag.pubads().enableSingleRequest();  googletag.enableServices();  googletag.display('DFP_2517481362');});</script></td></tr></table>\n",
       "<p style=\"margin-top:0px;margin-bottom:14px\"></p>\n",
       "<table bgcolor=\"#d2d2d2\" border=\"0\" cellpadding=\"0\" cellspacing=\"0\" class=\"solid_1_padding_6_2_tbl\" width=\"100%\"><tr bgcolor=\"#d7e6f4\"><td align=\"center\" class=\"head_td\"><table class=\"none_tbl\" style=\"table-layout:fixed;font-size:11pt;\" width=\"100%\"> <tr align=\"center\" height=\"23px\" valign=\"bottom\"> <td align=\"left\" width=\"25%\"></td> <td style=\"color:blue;font-size:14pt;font-weight:bold;\" width=\"50%\"><nobr>2409 友達 歷年股利政策一覽表</nobr></td> <td width=\"25%\"></td> </tr></table></td></tr><tr align=\"center\" bgcolor=\"white\" height=\"541px\" valign=\"middle\"><td onmouseout=\"EnableSelect();\" onmouseover=\"DisableSelect();\" style=\"padding:0\"><div id=\"IMG_LOADING\"><img border=\"0\" src=\"image/loading.gif\"/></div><canvas height=\"540px\" id=\"StockCanvas\" style=\"display:none;z-index:0;border:0px solid #69c\" width=\"810px\"><p style=\"font-size:14pt;color:red;margin-top:240px;margin-bottom:240px\">很抱歉，您的瀏覽器不支援 html5 所設計之繪圖功能，<br/>請改用 IE9、google chrome 或 firefox 等瀏覽器，以支援此功能。</p></canvas><div id=\"debug\"></div><script src=\"StockDividendPolicyData.asp?STOCK_ID=2409&amp;STOCK_NM=%E5%8F%8B%E9%81%94&amp;MARKET_CAT=%E4%B8%8A%E5%B8%82&amp;SHOW_ROTC=&amp;SESSION_VAL=020%2E6025813\" type=\"text/javascript\"></script></td></tr></table>\n",
       "<p style=\"margin-top:0px;margin-bottom:14px\"></p>\n",
       "<div id=\"divDividendSumInfo\">\n",
       "<table class=\"solid_1_padding_4_0_tbl\" style=\"font-size:10pt;\" width=\"100%\"><tr bgcolor=\"#d7e6f4\"><td class=\"head_td\"><table class=\"none_tbl\" width=\"100%\"><tr><td width=\"25%\"><nobr id=\"txtDividendSumInfoLoading\" style=\"color:gray;display:none;\">      ( 資料載入中... )</nobr></td><td align=\"center\" style=\"color:blue;font-size:14pt;font-weight:bold;\" width=\"50%\"><nobr>股   利   分   派   統   計</nobr></td><td align=\"right\" valign=\"bottom\" width=\"25%\"><nobr><select onchange=\"ReloadReport('StockDividendPolicy.asp?STOCK_ID=2409&amp;SHOW_ROTC=&amp;STEP=DATA&amp;YEAR_PERIOD='+encodeURIComponent(this.value),divDividendSumInfo,txtDividendSumInfoLoading);\" style=\"font-size:11pt\"><option selected=\"\" value=\"9999\">歷年平均</option><option value=\"20\">近20年平均</option><option value=\"15\">近15年平均</option><option value=\"10\">近10年平均</option><option value=\"5\">近5年平均</option><option value=\"3\">近3年平均</option></select>      </nobr></td></tr></table></td></tr></table><div style=\"position:relative;width:812px;\"><div style=\"overflow-x:auto;overflow-y:hidden;border:solid #d2d2d2 0px;\"><table bgcolor=\"white\" class=\"solid_1_padding_5_2_tbl\" style=\"font-size:11pt;line-height:18px;\" width=\"100%\"><tr align=\"center\" bgcolor=\"#ebf3fa\" height=\"23px\" style=\"font-weight:bold\"><td rowspan=\"3\" width=\"15%\"></td><td colspan=\"6\"><nobr>歷年平均統計<div style=\"color:gray;font-size:9pt;\">(股利所屬年度: 1996~2019, 共24年)</div></nobr></td><td rowspan=\"3\" width=\"9%\"><nobr>股利<br/>連續<br/>分派<br/>年數</nobr></td><td rowspan=\"3\" width=\"9%\"><nobr>股利<br/>連續<br/>分派<br/>總額<br/>(元)</nobr></td><td rowspan=\"3\" width=\"9%\"><nobr>股利<br/>連續<br/>增減<br/>持平<br/>年數</nobr></td></tr><tr align=\"center\" bgcolor=\"#ebf3fa\" height=\"23px\" style=\"font-weight:bold\"><td rowspan=\"2\" width=\"9%\"><nobr>平均<br/>股利<br/>(元)</nobr></td><td rowspan=\"2\" width=\"9%\"><nobr>平均<br/>增減<br/>(元)</nobr></td><td rowspan=\"2\" width=\"9%\"><nobr>均填<br/>權息<br/>日數</nobr></td><td colspan=\"3\"><nobr>殖利率(%)</nobr></td></tr><tr align=\"center\" bgcolor=\"#ebf3fa\" height=\"23px\" style=\"font-weight:bold\"><td width=\"9%\"><nobr>歷年<br/>平均</nobr></td><td width=\"9%\"><nobr>平均<br/>最高</nobr></td><td width=\"9%\"><nobr>平均<br/>最低</nobr></td></tr><tr align=\"center\"><td><nobr><b>現金股利</b></nobr></td><td>0.42</td><td style=\"color:black\">0</td><td>96</td><td>2.2</td><td>3.22</td><td>1.7</td><td rowspan=\"3\" style=\"color:green;font-weight:bold;\">連續<br/>1年<br/>未配發</td><td>0</td><td style=\"color:green\">-2</td></tr><tr align=\"center\"><td><nobr><b>股票股利</b></nobr></td><td>0.2</td><td style=\"color:black\">0</td><td>113</td><td>0.64</td><td>1.26</td><td>0.45</td><td>0</td><td style=\"color:black\">0</td></tr><tr align=\"center\"><td><nobr><b>現金+股票</b></nobr></td><td>0.62</td><td style=\"color:black\">0</td><td>-</td><td>2.83</td><td>4.48</td><td>2.15</td><td>0</td><td style=\"color:green\">-2</td></tr></table></div></div><p style=\"color:gray;margin:4px 0 0 0;font-size:9pt\"> * 以上資料以 \"<b>股利所屬年度2019年</b>\" 以前之資料計算, 以避免 \"每季分派股利的公司\" 在完整公布全年度資料前, 因資料不完整造成平均值被壓低。</p><p style=\"color:gray;margin:1px 0 0 0;font-size:9pt\"> * 若 \"股利連續分派年數 \"為負值, 則表示該股利連續 \"未分派\" 的年數。</p><p style=\"color:gray;margin:1px 0 0 0;font-size:9pt\"> * 若 \"股利連續增減持平年數 \"為正值, 表示該股利 \"連續增加或持平\" 年數, 若為負值, 則為 \"連續減少或持平\" 年數。</p>\n",
       "</div>\n",
       "<p style=\"margin-top:0px;margin-bottom:14px\"></p>\n",
       "<table class=\"none_tbl\" id=\"AD17\" style=\"height:232px;\" width=\"100%\"><tr height=\"16px\"><td></td></tr><tr height=\"200px\"><td align=\"center\" style=\"position:relative;\" valign=\"middle\"><div onclick='var o=this;o.style.display=\"none\";setTimeout(function(){o.style.display=\"\";},2000);' style=\"z-index:100;position:absolute;left:50%;transform:translateX(-50%);width:784px;height:10px;\"></div><div onclick='var o=this;o.style.display=\"none\";setTimeout(function(){o.style.display=\"\";},2000);' style=\"z-index:100;position:absolute;left:50%;top:100%;transform:translate(-50%,-9px);width:784px;height:10px;\"></div><div onclick='var o=this;o.style.display=\"none\";setTimeout(function(){o.style.display=\"\";},2000);' style=\"z-index:100;position:absolute;left:50%;transform:translateX(-401px);width:10px;height:201px;\"></div><div onclick='var o=this;o.style.display=\"none\";setTimeout(function(){o.style.display=\"\";},2000);' style=\"z-index:100;position:absolute;left:50%;transform:translateX(391px);width:10px;height:201px;\"></div><div id=\"DFP_8352728565\" style=\"width:800px;text-align:center;\"></div></td></tr><tr height=\"16px\"><td></td></tr></table><script type=\"text/javascript\">ADList.push(\"AD17\");googletag.cmd.push(function() {  googletag.defineSlot('/166795457/TW_800x200_2', [800,200], 'DFP_8352728565').addService(googletag.pubads());  googletag.pubads().enableSingleRequest();  googletag.enableServices();  googletag.display('DFP_8352728565');});</script>\n",
       "<p style=\"margin-top:0px;margin-bottom:14px\"></p>\n",
       "<table class=\"solid_1_padding_4_0_tbl\" width=\"100%\"><tr bgcolor=\"#d7e6f4\"><td class=\"head_td\"><table class=\"none_tbl\" style=\"font-size:10pt;\" width=\"100%\"><tr height=\"25px\"><td valign=\"bottom\"></td><td align=\"right\" valign=\"middle\"><nobr><input onclick=\"export2xls(divDetail.innerHTML,'DividendDetail.xls');\" type=\"button\" value=\"匯出XLS\"/> <input onclick=\"export2html(divDetail.innerHTML,'DividendDetail.html');\" type=\"button\" value=\"匯出HTML\"/>    </nobr></td></tr></table></td></tr></table><div style=\"position:relative;width:812px;\"><div id=\"divDetail\" style=\"overflow-x:auto;overflow-y:hidden;border:solid #d2d2d2 0px;\"><table bgcolor=\"#d2d2d2\" class=\"solid_1_padding_4_0_tbl\" style=\"font-size:10pt;line-height:17px;\" width=\"100%\"><thead><tr align=\"center\" bgcolor=\"#d7e6f4\" style=\"font-size:11pt;\"> <td colspan=\"12\"><nobr><b>股　　利　　政　　策</b></nobr></td> <td colspan=\"7\" rowspan=\"2\"><nobr><b>殖  利  率  統  計</b></nobr></td> <td colspan=\"5\" rowspan=\"2\"><nobr><b>盈餘分配率統計</b></nobr></td></tr><tr align=\"center\" bgcolor=\"#d7e6f4\" height=\"23px\"> <td rowspan=\"3\"><nobr><b>股利<br/>發放<br/>年度</b></nobr></td> <td colspan=\"7\"><nobr>股東股利 (元/股)</nobr></td> <td colspan=\"2\" title=\"股東股利總計\"><nobr>股利總計</nobr></td> <td rowspan=\"3\"><nobr>填息<br/>花費<br/>日數</nobr></td> <td rowspan=\"3\"><nobr>填權<br/>花費<br/>日數</nobr></td></tr><tr align=\"center\" bgcolor=\"#d7e6f4\" height=\"23px\"> <td colspan=\"3\"><nobr>現金股利</nobr></td> <td colspan=\"3\"><nobr>股票股利</nobr></td> <td rowspan=\"2\"><nobr>股利<br/>合計</nobr></td> <td rowspan=\"2\"><nobr>現金<br/>(億)</nobr></td> <td rowspan=\"2\"><nobr>股票<br/><span style=\"font-size:8pt;line-height:10px;\">(千張)</span></nobr></td> <td rowspan=\"2\"><nobr><b>股價<br/>年度</b></nobr></td> <td colspan=\"3\"><nobr>股價統計(元)</nobr></td> <td colspan=\"3\" title=\"股東股利 / 年度平均收盤價 x 100%\"><nobr>年均殖利率(%)</nobr></td> <td rowspan=\"2\"><nobr><b>股利<br/>所屬<br/>期間</b></nobr></td> <td rowspan=\"2\"><nobr>EPS<br/>(元)</nobr></td> <td colspan=\"3\" title=\"股東股利 / 年度EPS x 100%\"><nobr>盈餘分配率(%)</nobr></td></tr><tr align=\"center\" bgcolor=\"#d7e6f4\" height=\"23px\"> <td><nobr>盈餘</nobr></td> <td><nobr>公積</nobr></td> <td><nobr>合計</nobr></td> <td><nobr>盈餘</nobr></td> <td><nobr>公積</nobr></td> <td><nobr>合計</nobr></td> <td><nobr>最高</nobr></td> <td><nobr>最低</nobr></td> <td><nobr>年均</nobr></td> <td title=\"現金殖利率(%) = 現金股利 / 年度平均股價 x 100%\"><nobr>現金</nobr></td> <td title=\"股票殖利率(%) = 股票股利 / 年度平均股價 x 100%\"><nobr>股票</nobr></td> <td title=\"股利殖利率合計(%) = (現金股利 + 股票股利) / 年度平均股價 x 100%\"><nobr>合計</nobr></td> <td title=\"盈餘配息率(%) = 現金股利 / EPS x 100%\"><nobr>配息</nobr></td> <td title=\"盈餘配股率(%) = 股票股利 / EPS x 100%\"><nobr>配股</nobr></td> <td title=\"盈餘配股配息率合計(%) = (現金股利 + 股票股利) / EPS x 100%\"><nobr>合計</nobr></td></tr></thead><tr align=\"center\" bgcolor=\"#F0F0F0\" onmouseout='this.style.background=\"#F0F0F0\";' onmouseover='this.style.background=\"#fff2cc\";'> <td><nobr><b>2020</b></nobr></td> <td title=\"0\">0</td> <td title=\"0\">0</td> <td title=\"0\">0</td> <td title=\"0\">0</td> <td title=\"0\">0</td> <td title=\"0\">0</td> <td title=\"0\">0</td> <td>0</td> <td>0</td> <td>-</td> <td>-</td> <td><nobr><b>2020</b></nobr></td> <td>11.65</td> <td>6.1</td> <td>8.65</td> <td>0</td> <td>0</td> <td>0</td> <td><nobr><b>2019</b></nobr></td> <td style=\"color:green\"><nobr>-2</nobr></td> <td>0</td> <td>0</td> <td>0</td></tr><tr align=\"center\" bgcolor=\"white\" onmouseout='this.style.background=\"white\";' onmouseover='this.style.background=\"#fff2cc\";'> <td><nobr><b>2019</b></nobr></td> <td title=\"0.5\">0.5</td> <td title=\"0\">0</td> <td title=\"0.5\">0.5</td> <td title=\"0\">0</td> <td title=\"0\">0</td> <td title=\"0\">0</td> <td title=\"0.5\">0.5</td> <td>48.1</td> <td>0</td> <td>5</td> <td>-</td> <td><nobr><b>2019</b></nobr></td> <td>12.75</td> <td>6.92</td> <td>9.59</td> <td>5.21</td> <td>0</td> <td>5.21</td> <td><nobr><b>2018</b></nobr></td> <td><nobr>1.06</nobr></td> <td>47.2</td> <td>0</td> <td>47.2</td></tr><tr align=\"center\" bgcolor=\"#F0F0F0\" onmouseout='this.style.background=\"#F0F0F0\";' onmouseover='this.style.background=\"#fff2cc\";'> <td><nobr><b>2018</b></nobr></td> <td title=\"1.5\">1.5</td> <td title=\"0\">0</td> <td title=\"1.5\">1.5</td> <td title=\"0\">0</td> <td title=\"0\">0</td> <td title=\"0\">0</td> <td title=\"1.5\">1.5</td> <td>144</td> <td>0</td> <td>19</td> <td>-</td> <td><nobr><b>2018</b></nobr></td> <td>14.45</td> <td>11.2</td> <td>12.8</td> <td>11.7</td> <td>0</td> <td>11.7</td> <td><nobr><b>2017</b></nobr></td> <td><nobr>3.36</nobr></td> <td>44.6</td> <td>0</td> <td>44.6</td></tr><tr align=\"center\" bgcolor=\"white\" onmouseout='this.style.background=\"white\";' onmouseover='this.style.background=\"#fff2cc\";'> <td><nobr><b>2017</b></nobr></td> <td title=\"0.56\">0.56</td> <td title=\"0\">0</td> <td title=\"0.56\">0.56</td> <td title=\"0\">0</td> <td title=\"0\">0</td> <td title=\"0\">0</td> <td title=\"0.56\">0.56</td> <td>53.9</td> <td>0</td> <td>145</td> <td>-</td> <td><nobr><b>2017</b></nobr></td> <td>14.4</td> <td>11.4</td> <td>12.4</td> <td>4.53</td> <td>0</td> <td>4.53</td> <td><nobr><b>2016</b></nobr></td> <td><nobr>0.81</nobr></td> <td>69.1</td> <td>0</td> <td>69.1</td></tr><tr align=\"center\" bgcolor=\"#F0F0F0\" onmouseout='this.style.background=\"#F0F0F0\";' onmouseover='this.style.background=\"#fff2cc\";'> <td><nobr><b>2016</b></nobr></td> <td title=\"0.35\">0.35</td> <td title=\"0\">0</td> <td title=\"0.35\">0.35</td> <td title=\"0\">0</td> <td title=\"0\">0</td> <td title=\"0\">0</td> <td title=\"0.35\">0.35</td> <td>33.7</td> <td>0</td> <td>1</td> <td>-</td> <td><nobr><b>2016</b></nobr></td> <td>13.75</td> <td>8.21</td> <td>10.7</td> <td>3.28</td> <td>0</td> <td>3.28</td> <td><nobr><b>2015</b></nobr></td> <td><nobr>0.51</nobr></td> <td>68.6</td> <td>0</td> <td>68.6</td></tr><tr align=\"center\" bgcolor=\"white\" onmouseout='this.style.background=\"white\";' onmouseover='this.style.background=\"#fff2cc\";'> <td><nobr><b>2015</b></nobr></td> <td title=\"0.5\">0.5</td> <td title=\"0\">0</td> <td title=\"0.5\">0.5</td> <td title=\"0\">0</td> <td title=\"0\">0</td> <td title=\"0\">0</td> <td title=\"0.5\">0.5</td> <td>48.1</td> <td>0</td> <td>269</td> <td>-</td> <td><nobr><b>2015</b></nobr></td> <td>19.15</td> <td>8.03</td> <td>12.9</td> <td>3.87</td> <td>0</td> <td>3.87</td> <td><nobr><b>2014</b></nobr></td> <td><nobr>1.83</nobr></td> <td>27.3</td> <td>0</td> <td>27.3</td></tr><tr align=\"center\" bgcolor=\"#F0F0F0\" onmouseout='this.style.background=\"#F0F0F0\";' onmouseover='this.style.background=\"#fff2cc\";'> <td><nobr><b>2014</b></nobr></td> <td title=\"0.01\">0.01</td> <td title=\"0.14\">0.14</td> <td title=\"0.15\">0.15</td> <td title=\"0\">0</td> <td title=\"0\">0</td> <td title=\"0\">0</td> <td title=\"0.15\">0.15</td> <td>14.4</td> <td>0</td> <td>1</td> <td>-</td> <td><nobr><b>2014</b></nobr></td> <td>16.8</td> <td>8.8</td> <td>12.4</td> <td>1.21</td> <td>0</td> <td>1.21</td> <td><nobr><b>2013</b></nobr></td> <td><nobr>0.45</nobr></td> <td>33.3</td> <td>0</td> <td>33.3</td></tr><tr align=\"center\" bgcolor=\"white\" onmouseout='this.style.background=\"white\";' onmouseover='this.style.background=\"#fff2cc\";'> <td><nobr><b>2013</b></nobr></td> <td title=\"0\">0</td> <td title=\"0\">0</td> <td title=\"0\">0</td> <td title=\"0\">0</td> <td title=\"0\">0</td> <td title=\"0\">0</td> <td title=\"0\">0</td> <td>0</td> <td>0</td> <td>-</td> <td>-</td> <td><nobr><b>2013</b></nobr></td> <td>14.25</td> <td>8.43</td> <td>11.5</td> <td>0</td> <td>0</td> <td>0</td> <td><nobr><b>2012</b></nobr></td> <td style=\"color:green\"><nobr>-6.19</nobr></td> <td>0</td> <td>0</td> <td>0</td></tr><tr align=\"center\" bgcolor=\"#F0F0F0\" onmouseout='this.style.background=\"#F0F0F0\";' onmouseover='this.style.background=\"#fff2cc\";'> <td><nobr><b>2012</b></nobr></td> <td title=\"0\">0</td> <td title=\"0\">0</td> <td title=\"0\">0</td> <td title=\"0\">0</td> <td title=\"0\">0</td> <td title=\"0\">0</td> <td title=\"0\">0</td> <td>0</td> <td>0</td> <td>-</td> <td>-</td> <td><nobr><b>2012</b></nobr></td> <td>18</td> <td>8.19</td> <td>12.5</td> <td>0</td> <td>0</td> <td>0</td> <td><nobr><b>2011</b></nobr></td> <td style=\"color:green\"><nobr>-6.94</nobr></td> <td>0</td> <td>0</td> <td>0</td></tr><tr align=\"center\" bgcolor=\"white\" onmouseout='this.style.background=\"white\";' onmouseover='this.style.background=\"#fff2cc\";'> <td><nobr><b>2011</b></nobr></td> <td title=\"0.4\">0.4</td> <td title=\"0\">0</td> <td title=\"0.4\">0.4</td> <td title=\"0\">0</td> <td title=\"0\">0</td> <td title=\"0\">0</td> <td title=\"0.4\">0.4</td> <td>35.3</td> <td>0</td> <td>1</td> <td>-</td> <td><nobr><b>2011</b></nobr></td> <td>30.6</td> <td>11.7</td> <td>19.3</td> <td>2.07</td> <td>0</td> <td>2.07</td> <td><nobr><b>2010</b></nobr></td> <td><nobr>0.76</nobr></td> <td>52.6</td> <td>0</td> <td>52.6</td></tr><tr align=\"center\" bgcolor=\"#F0F0F0\" onmouseout='this.style.background=\"#F0F0F0\";' onmouseover='this.style.background=\"#fff2cc\";'> <td><nobr><b>2010</b></nobr></td> <td title=\"0\">0</td> <td title=\"0\">0</td> <td title=\"0\">0</td> <td title=\"0\">0</td> <td title=\"0\">0</td> <td title=\"0\">0</td> <td title=\"0\">0</td> <td>0</td> <td>0</td> <td>-</td> <td>-</td> <td><nobr><b>2010</b></nobr></td> <td>42.15</td> <td>27.15</td> <td>32.3</td> <td>0</td> <td>0</td> <td>0</td> <td><nobr><b>2009</b></nobr></td> <td style=\"color:green\"><nobr>-3.04</nobr></td> <td>0</td> <td>0</td> <td>0</td></tr><tr align=\"center\" bgcolor=\"white\" onmouseout='this.style.background=\"white\";' onmouseover='this.style.background=\"#fff2cc\";'> <td><nobr><b>2009</b></nobr></td> <td title=\"0.3\">0.3</td> <td title=\"0\">0</td> <td title=\"0.3\">0.3</td> <td title=\"0.3\">0.3</td> <td title=\"0\">0</td> <td title=\"0.3\">0.3</td> <td title=\"0.6\">0.6</td> <td>25.5</td> <td>255</td> <td>1</td> <td>1</td> <td><nobr><b>2009</b></nobr></td> <td>39.3</td> <td>22.55</td> <td>32</td> <td>0.94</td> <td>0.94</td> <td>1.88</td> <td><nobr><b>2008</b></nobr></td> <td><nobr>2.5</nobr></td> <td>12</td> <td>12</td> <td>24</td></tr><tr align=\"center\" bgcolor=\"#F0F0F0\" onmouseout='this.style.background=\"#F0F0F0\";' onmouseover='this.style.background=\"#fff2cc\";'> <td><nobr><b>2008</b></nobr></td> <td title=\"2.49990467\">2.5</td> <td title=\"0\">0</td> <td title=\"2.49990467\">2.5</td> <td title=\"0.49998093\">0.5</td> <td title=\"0\">0</td> <td title=\"0.49998093\">0.5</td> <td title=\"2.9998856\">3</td> <td>-</td> <td>-</td> <td>8</td> <td>8</td> <td><nobr><b>2008</b></nobr></td> <td>63.5</td> <td>17.8</td> <td>43.2</td> <td>5.79</td> <td>1.16</td> <td>6.95</td> <td><nobr><b>2007</b></nobr></td> <td><nobr>7.22</nobr></td> <td>34.6</td> <td>6.92</td> <td>41.5</td></tr><tr align=\"center\" bgcolor=\"white\" onmouseout='this.style.background=\"white\";' onmouseover='this.style.background=\"#fff2cc\";'> <td><nobr><b>2007</b></nobr></td> <td title=\"0.19908638\">0.2</td> <td title=\"0\">0</td> <td title=\"0.19908638\">0.2</td> <td title=\"0.199086384\">0.2</td> <td title=\"0\">0</td> <td title=\"0.199086384\">0.2</td> <td title=\"0.398172764\">0.4</td> <td>-</td> <td>-</td> <td>31</td> <td>31</td> <td><nobr><b>2007</b></nobr></td> <td>72.5</td> <td>43.2</td> <td>53.9</td> <td>0.37</td> <td>0.37</td> <td>0.74</td> <td><nobr><b>2006</b></nobr></td> <td><nobr>1.41</nobr></td> <td>14.1</td> <td>14.1</td> <td>28.2</td></tr><tr align=\"center\" bgcolor=\"#F0F0F0\" onmouseout='this.style.background=\"#F0F0F0\";' onmouseover='this.style.background=\"#fff2cc\";'> <td><nobr><b>2006</b></nobr></td> <td title=\"0.3\">0.3</td> <td title=\"0\">0</td> <td title=\"0.3\">0.3</td> <td title=\"0.3\">0.3</td> <td title=\"0\">0</td> <td title=\"0.3\">0.3</td> <td title=\"0.6\">0.6</td> <td>-</td> <td>-</td> <td>3</td> <td>3</td> <td><nobr><b>2006</b></nobr></td> <td>56.4</td> <td>40</td> <td>47.5</td> <td>0.63</td> <td>0.63</td> <td>1.26</td> <td><nobr><b>2005</b></nobr></td> <td><nobr>2.77</nobr></td> <td>10.8</td> <td>10.8</td> <td>21.7</td></tr><tr align=\"center\" bgcolor=\"white\" onmouseout='this.style.background=\"white\";' onmouseover='this.style.background=\"#fff2cc\";'> <td><nobr><b>2005</b></nobr></td> <td title=\"1.2\">1.2</td> <td title=\"0\">0</td> <td title=\"1.2\">1.2</td> <td title=\"0.9\">0.9</td> <td title=\"0\">0</td> <td title=\"0.9\">0.9</td> <td title=\"2.1\">2.1</td> <td>-</td> <td>-</td> <td>15</td> <td>15</td> <td><nobr><b>2005</b></nobr></td> <td>56.4</td> <td>34.8</td> <td>47.5</td> <td>2.53</td> <td>1.89</td> <td>4.42</td> <td><nobr><b>2004</b></nobr></td> <td><nobr>5.82</nobr></td> <td>20.6</td> <td>15.5</td> <td>36.1</td></tr><thead><tr align=\"center\" bgcolor=\"#d7e6f4\" style=\"font-size:11pt;\"> <td colspan=\"12\"><nobr><b>股　　利　　政　　策</b></nobr></td> <td colspan=\"7\" rowspan=\"2\"><nobr><b>殖  利  率  統  計</b></nobr></td> <td colspan=\"5\" rowspan=\"2\"><nobr><b>盈餘分配率統計</b></nobr></td></tr><tr align=\"center\" bgcolor=\"#d7e6f4\" height=\"23px\"> <td rowspan=\"3\"><nobr><b>股利<br/>發放<br/>年度</b></nobr></td> <td colspan=\"7\"><nobr>股東股利 (元/股)</nobr></td> <td colspan=\"2\" title=\"股東股利總計\"><nobr>股利總計</nobr></td> <td rowspan=\"3\"><nobr>填息<br/>花費<br/>日數</nobr></td> <td rowspan=\"3\"><nobr>填權<br/>花費<br/>日數</nobr></td></tr><tr align=\"center\" bgcolor=\"#d7e6f4\" height=\"23px\"> <td colspan=\"3\"><nobr>現金股利</nobr></td> <td colspan=\"3\"><nobr>股票股利</nobr></td> <td rowspan=\"2\"><nobr>股利<br/>合計</nobr></td> <td rowspan=\"2\"><nobr>現金<br/>(億)</nobr></td> <td rowspan=\"2\"><nobr>股票<br/><span style=\"font-size:8pt;line-height:10px;\">(千張)</span></nobr></td> <td rowspan=\"2\"><nobr><b>股價<br/>年度</b></nobr></td> <td colspan=\"3\"><nobr>股價統計(元)</nobr></td> <td colspan=\"3\" title=\"股東股利 / 年度平均收盤價 x 100%\"><nobr>年均殖利率(%)</nobr></td> <td rowspan=\"2\"><nobr><b>股利<br/>所屬<br/>期間</b></nobr></td> <td rowspan=\"2\"><nobr>EPS<br/>(元)</nobr></td> <td colspan=\"3\" title=\"股東股利 / 年度EPS x 100%\"><nobr>盈餘分配率(%)</nobr></td></tr><tr align=\"center\" bgcolor=\"#d7e6f4\" height=\"23px\"> <td><nobr>盈餘</nobr></td> <td><nobr>公積</nobr></td> <td><nobr>合計</nobr></td> <td><nobr>盈餘</nobr></td> <td><nobr>公積</nobr></td> <td><nobr>合計</nobr></td> <td><nobr>最高</nobr></td> <td><nobr>最低</nobr></td> <td><nobr>年均</nobr></td> <td title=\"現金殖利率(%) = 現金股利 / 年度平均股價 x 100%\"><nobr>現金</nobr></td> <td title=\"股票殖利率(%) = 股票股利 / 年度平均股價 x 100%\"><nobr>股票</nobr></td> <td title=\"股利殖利率合計(%) = (現金股利 + 股票股利) / 年度平均股價 x 100%\"><nobr>合計</nobr></td> <td title=\"盈餘配息率(%) = 現金股利 / EPS x 100%\"><nobr>配息</nobr></td> <td title=\"盈餘配股率(%) = 股票股利 / EPS x 100%\"><nobr>配股</nobr></td> <td title=\"盈餘配股配息率合計(%) = (現金股利 + 股票股利) / EPS x 100%\"><nobr>合計</nobr></td></tr></thead><tr align=\"center\" bgcolor=\"#F0F0F0\" onmouseout='this.style.background=\"#F0F0F0\";' onmouseover='this.style.background=\"#fff2cc\";'> <td><nobr><b>2004</b></nobr></td> <td title=\"1.2\">1.2</td> <td title=\"0\">0</td> <td title=\"1.2\">1.2</td> <td title=\"0.5\">0.5</td> <td title=\"0\">0</td> <td title=\"0.5\">0.5</td> <td title=\"1.7\">1.7</td> <td>-</td> <td>-</td> <td>842</td> <td>842</td> <td><nobr><b>2004</b></nobr></td> <td>79.5</td> <td>33</td> <td>49.8</td> <td>2.41</td> <td>1</td> <td>3.41</td> <td><nobr><b>2003</b></nobr></td> <td><nobr>3.65</nobr></td> <td>32.9</td> <td>13.7</td> <td>46.6</td></tr><tr align=\"center\" bgcolor=\"white\" onmouseout='this.style.background=\"white\";' onmouseover='this.style.background=\"#fff2cc\";'> <td><nobr><b>2003</b></nobr></td> <td title=\"0.5\">0.5</td> <td title=\"0\">0</td> <td title=\"0.5\">0.5</td> <td title=\"0.5\">0.5</td> <td title=\"0\">0</td> <td title=\"0.5\">0.5</td> <td title=\"1\">1</td> <td>-</td> <td>-</td> <td>2</td> <td>2</td> <td><nobr><b>2003</b></nobr></td> <td>49.9</td> <td>17.2</td> <td>31.6</td> <td>1.58</td> <td>1.58</td> <td>3.17</td> <td><nobr><b>2002</b></nobr></td> <td><nobr>1.65</nobr></td> <td>30.3</td> <td>30.3</td> <td>60.6</td></tr><tr align=\"center\" bgcolor=\"#F0F0F0\" onmouseout='this.style.background=\"#F0F0F0\";' onmouseover='this.style.background=\"#fff2cc\";'> <td><nobr><b>2002</b></nobr></td> <td title=\"0\">0</td> <td title=\"0\">0</td> <td title=\"0\">0</td> <td title=\"0\">0</td> <td title=\"0\">0</td> <td title=\"0\">0</td> <td title=\"0\">0</td> <td>-</td> <td>-</td> <td>-</td> <td>-</td> <td><nobr><b>2002</b></nobr></td> <td>62.5</td> <td>15.6</td> <td>35.7</td> <td>0</td> <td>0</td> <td>0</td> <td><nobr><b>2001</b></nobr></td> <td style=\"color:green\"><nobr>-2.34</nobr></td> <td>0</td> <td>0</td> <td>0</td></tr><tr align=\"center\" bgcolor=\"white\" onmouseout='this.style.background=\"white\";' onmouseover='this.style.background=\"#fff2cc\";'> <td><nobr><b>2001</b></nobr></td> <td title=\"0\">0</td> <td title=\"0\">0</td> <td title=\"0\">0</td> <td title=\"1.1\">1.1</td> <td title=\"0.5\">0.5</td> <td title=\"1.6\">1.6</td> <td title=\"1.6\">1.6</td> <td>-</td> <td>-</td> <td>-</td> <td>3</td> <td><nobr><b>2001</b></nobr></td> <td>41.7</td> <td>11.35</td> <td>27.6</td> <td>0</td> <td>5.79</td> <td>5.79</td> <td><nobr><b>2000</b></nobr></td> <td><nobr>1.6</nobr></td> <td>0</td> <td>100</td> <td>100</td></tr><tr align=\"center\" bgcolor=\"#F0F0F0\" onmouseout='this.style.background=\"#F0F0F0\";' onmouseover='this.style.background=\"#fff2cc\";'> <td><nobr><b>2000</b></nobr></td> <td title=\"0\">0</td> <td title=\"0\">0</td> <td title=\"0\">0</td> <td title=\"0\">0</td> <td title=\"0\">0</td> <td title=\"0\">0</td> <td title=\"0\">0</td> <td>-</td> <td>-</td> <td>-</td> <td>-</td> <td><nobr><b>2000</b></nobr></td> <td>75</td> <td>19.2</td> <td>34.6</td> <td>0</td> <td>0</td> <td>0</td> <td><nobr><b>1999</b></nobr></td> <td><nobr>0.73</nobr></td> <td>0</td> <td>0</td> <td>0</td></tr><tr align=\"center\" bgcolor=\"white\" onmouseout='this.style.background=\"white\";' onmouseover='this.style.background=\"#fff2cc\";'> <td><nobr><b>1999</b></nobr></td> <td title=\"0\">0</td> <td title=\"0\">0</td> <td title=\"0\">0</td> <td title=\"0\">0</td> <td title=\"0\">0</td> <td title=\"0\">0</td> <td title=\"0\">0</td> <td>-</td> <td>-</td> <td>-</td> <td>-</td> <td><nobr><b>-</b></nobr></td> <td>-</td> <td>-</td> <td>-</td> <td>-</td> <td>-</td> <td>-</td> <td><nobr><b>1998</b></nobr></td> <td style=\"color:green\"><nobr>-0.06</nobr></td> <td>0</td> <td>0</td> <td>0</td></tr><tr align=\"center\" bgcolor=\"#F0F0F0\" onmouseout='this.style.background=\"#F0F0F0\";' onmouseover='this.style.background=\"#fff2cc\";'> <td><nobr><b>1998</b></nobr></td> <td title=\"0\">0</td> <td title=\"0\">0</td> <td title=\"0\">0</td> <td title=\"0\">0</td> <td title=\"0\">0</td> <td title=\"0\">0</td> <td title=\"0\">0</td> <td>-</td> <td>-</td> <td>-</td> <td>-</td> <td><nobr><b>-</b></nobr></td> <td>-</td> <td>-</td> <td>-</td> <td>-</td> <td>-</td> <td>-</td> <td><nobr><b>1997</b></nobr></td> <td><nobr>-</nobr></td> <td>-</td> <td>-</td> <td>-</td></tr><tr align=\"center\" bgcolor=\"white\" onmouseout='this.style.background=\"white\";' onmouseover='this.style.background=\"#fff2cc\";'> <td><nobr><b>1997</b></nobr></td> <td title=\"0\">0</td> <td title=\"0\">0</td> <td title=\"0\">0</td> <td title=\"0\">0</td> <td title=\"0\">0</td> <td title=\"0\">0</td> <td title=\"0\">0</td> <td>-</td> <td>-</td> <td>-</td> <td>-</td> <td><nobr><b>-</b></nobr></td> <td>-</td> <td>-</td> <td>-</td> <td>-</td> <td>-</td> <td>-</td> <td><nobr><b>1996</b></nobr></td> <td><nobr>-</nobr></td> <td>-</td> <td>-</td> <td>-</td></tr><tr align=\"center\" bgcolor=\"#F0F0F0\" height=\"23px\" onmouseout='this.style.background=\"#F0F0F0\";' onmouseover='this.style.background=\"#fff2cc\";'> <td><b>累計</b></td> <td>10</td> <td>0.14</td> <td>10.2</td> <td>4.3</td> <td>0.5</td> <td>4.8</td> <td>15</td> <td></td> <td></td> <td></td> <td></td> <td></td> <td></td> <td></td> <td></td> <td></td> <td></td> <td></td> <td><b>累計</b></td> <td><nobr>15.6</nobr></td> <td></td> <td></td> <td></td></tr></table></div></div>\n",
       "</td>\n",
       "</tr>\n",
       "</table>\n",
       "<!-- 版權及責任宣告 -->\n",
       "<p style=\"margin-top:0px;margin-bottom:8px\"></p><table align=\"center\" class=\"none_tbl\" width=\"1000px\"><tr><td><hr/></td></tr></table><table align=\"center\" class=\"none_tbl\" style=\"font-size:9pt;color:gray;\" width=\"1000px\"> <tr> <td> <p style=\"margin-top: 0px; margin-bottom: 3px\">股豐資訊有限公司 版權所有 © 2012-2020 Good Information Co., Ltd. All Rights Reserved. <nobr>(<a class=\"link_blue\" href=\"ServiceTerms.asp\" target=\"_self\">服務條款</a> | <a class=\"link_blue\" href=\"Privacy.asp\" target=\"_self\">隱私及Cookies政策</a>)</nobr></p> <p style=\"margin-top: 0px; margin-bottom: 3px\">本網站所有資料僅供參考，如使用者依本資料交易發生交易損失需自行負責，股豐資訊有限公司 對資料內容錯誤、更新延誤或傳輸中斷不負任何責任。</p><p style=\"margin-top: 0px; margin-bottom: 3px\"><a class=\"link_blue\" href=\"http://www.ettoday.net/\" target=\"_blank\">ETtoday新聞雲</a> | <a class=\"link_blue\" href=\"https://www.cnyes.com/\" target=\"_blank\">Anue鉅亨</a> | <a class=\"link_blue\" href=\"https://hk.prnasia.com/\" target=\"_blank\">PR Newswire</a> 相關新聞標題與內容之著作權與智慧財產權均屬原網站及原作者所有，本網站僅提供新聞聯播，不主張任何權利。</p></td></tr></table><br>\n",
       "</br></body>\n",
       "<script type=\"text/javascript\">\n",
       "\tsetTimeout(function(){\n",
       "\t\tIMG_LOADING.style.display = 'none';\n",
       "\t\tInitStockChart({CanvasID:'StockCanvas'});\n",
       "\t\tRepaintAD();\n",
       "\t},300);\n",
       "\tInitial();\n",
       "</script>\n",
       "</html>"
      ]
     },
     "execution_count": 13,
     "metadata": {},
     "output_type": "execute_result"
    }
   ],
   "source": [
    "soup"
   ]
  },
  {
   "cell_type": "code",
   "execution_count": null,
   "metadata": {},
   "outputs": [],
   "source": []
  },
  {
   "cell_type": "code",
   "execution_count": null,
   "metadata": {},
   "outputs": [],
   "source": []
  },
  {
   "cell_type": "code",
   "execution_count": null,
   "metadata": {},
   "outputs": [],
   "source": []
  },
  {
   "cell_type": "code",
   "execution_count": null,
   "metadata": {},
   "outputs": [],
   "source": []
  },
  {
   "cell_type": "code",
   "execution_count": null,
   "metadata": {},
   "outputs": [],
   "source": []
  },
  {
   "cell_type": "code",
   "execution_count": 2,
   "metadata": {},
   "outputs": [],
   "source": [
    "# 要抓取的網址\n",
    "url = 'https://goodinfo.tw/StockInfo/StockDividendPolicy.asp?STOCK_ID=2409'\n",
    "# 附帶的資料必須要有\n",
    "headers = {'User-Agent': 'Mozilla/5.0 (X11; Linux x86_64) AppleWebKit/537.36 (KHTML, like Gecko) Chrome/70.0.3538.77 Safari/537.36' }\n",
    "\n",
    "#請求網站\n",
    "list_req = requests.post(url, headers = headers)\n",
    "#將整個網站的程式碼爬下來\n",
    "soup = BeautifulSoup(list_req.content, \"html.parser\")"
   ]
  },
  {
   "cell_type": "code",
   "execution_count": null,
   "metadata": {},
   "outputs": [],
   "source": []
  },
  {
   "cell_type": "code",
   "execution_count": 4,
   "metadata": {},
   "outputs": [],
   "source": [
    "#! /usr/bin/python\n",
    "# -*- coding: utf-8 -*-\n",
    "import requests\n",
    "from bs4 import BeautifulSoup\n",
    "import csv\n",
    "import sys\n",
    "import pandas as pd\n",
    "\n",
    "\n"
   ]
  },
  {
   "cell_type": "code",
   "execution_count": 5,
   "metadata": {},
   "outputs": [],
   "source": [
    "\n",
    "def GetHtmlcode(ID):\n",
    "    source = 'http://goodinfo.tw/StockInfo/StockDetail.asp?STOCK_ID='\n",
    "    url = source + ID\n",
    "\n",
    "    headers = {'User-Agent':'Mozilla/5.0 (Windows NT 10.0; Win64; x64) AppleWebKit/537.36 (KHTML, like Gecko) Chrome/56.0.2924.87 Safari/537.36'}\n",
    "\n",
    "    res = requests.get('http://goodinfo.tw/StockInfo/StockDetail.asp?STOCK_ID=2103', headers=headers)\n",
    "    res.encoding = 'utf-8'\n",
    "    #print res.text\n",
    "    soup = BeautifulSoup(res.text.replace('&nbsp;', '').replace('　',''), 'lxml')\n",
    "    return soup\n",
    "\n"
   ]
  },
  {
   "cell_type": "code",
   "execution_count": 9,
   "metadata": {},
   "outputs": [],
   "source": [
    "def main():\n",
    "    soup = GetHtmlcode('2324')\n",
    "\n",
    "    for head in soup.select('.head_td b'):\n",
    "        if head.text == u'合併獲利狀況':\n",
    "            df = pd.read_html(str(head.parent.parent.parent.parent), encoding = \"UTF-8\")\n",
    "\n",
    "    df2=pd.DataFrame(df)\n",
    "    df2 = df2[2:] ## 只要第二列之後\n",
    "    df2.columns = df2.iloc[0] # 把第一列當作 columns 名稱\n",
    "    df2 = df2.drop(df2.index[0]) # 刪除第一列 \n",
    "    df2.columns.name = ''\n",
    "    df2.index = range(len(df2)) # 重新產生 index \n",
    "    print(df2)\n",
    "\n",
    "\n"
   ]
  },
  {
   "cell_type": "code",
   "execution_count": 10,
   "metadata": {},
   "outputs": [
    {
     "ename": "UnboundLocalError",
     "evalue": "local variable 'df' referenced before assignment",
     "output_type": "error",
     "traceback": [
      "\u001b[1;31m---------------------------------------------------------------------------\u001b[0m",
      "\u001b[1;31mUnboundLocalError\u001b[0m                         Traceback (most recent call last)",
      "\u001b[1;32m<ipython-input-10-972361fa1b80>\u001b[0m in \u001b[0;36m<module>\u001b[1;34m\u001b[0m\n\u001b[0;32m      1\u001b[0m \u001b[1;32mif\u001b[0m \u001b[0m__name__\u001b[0m \u001b[1;33m==\u001b[0m \u001b[1;34m\"__main__\"\u001b[0m\u001b[1;33m:\u001b[0m\u001b[1;33m\u001b[0m\u001b[1;33m\u001b[0m\u001b[0m\n\u001b[1;32m----> 2\u001b[1;33m     \u001b[0mmain\u001b[0m\u001b[1;33m(\u001b[0m\u001b[1;33m)\u001b[0m\u001b[1;33m\u001b[0m\u001b[1;33m\u001b[0m\u001b[0m\n\u001b[0m",
      "\u001b[1;32m<ipython-input-9-68573415b366>\u001b[0m in \u001b[0;36mmain\u001b[1;34m()\u001b[0m\n\u001b[0;32m      6\u001b[0m             \u001b[0mdf\u001b[0m \u001b[1;33m=\u001b[0m \u001b[0mpd\u001b[0m\u001b[1;33m.\u001b[0m\u001b[0mread_html\u001b[0m\u001b[1;33m(\u001b[0m\u001b[0mstr\u001b[0m\u001b[1;33m(\u001b[0m\u001b[0mhead\u001b[0m\u001b[1;33m.\u001b[0m\u001b[0mparent\u001b[0m\u001b[1;33m.\u001b[0m\u001b[0mparent\u001b[0m\u001b[1;33m.\u001b[0m\u001b[0mparent\u001b[0m\u001b[1;33m.\u001b[0m\u001b[0mparent\u001b[0m\u001b[1;33m)\u001b[0m\u001b[1;33m,\u001b[0m \u001b[0mencoding\u001b[0m \u001b[1;33m=\u001b[0m \u001b[1;34m\"UTF-8\"\u001b[0m\u001b[1;33m)\u001b[0m\u001b[1;33m\u001b[0m\u001b[1;33m\u001b[0m\u001b[0m\n\u001b[0;32m      7\u001b[0m \u001b[1;33m\u001b[0m\u001b[0m\n\u001b[1;32m----> 8\u001b[1;33m     \u001b[0mdf2\u001b[0m\u001b[1;33m=\u001b[0m\u001b[0mpd\u001b[0m\u001b[1;33m.\u001b[0m\u001b[0mDataFrame\u001b[0m\u001b[1;33m(\u001b[0m\u001b[0mdf\u001b[0m\u001b[1;33m)\u001b[0m\u001b[1;33m\u001b[0m\u001b[1;33m\u001b[0m\u001b[0m\n\u001b[0m\u001b[0;32m      9\u001b[0m     \u001b[0mdf2\u001b[0m \u001b[1;33m=\u001b[0m \u001b[0mdf2\u001b[0m\u001b[1;33m[\u001b[0m\u001b[1;36m2\u001b[0m\u001b[1;33m:\u001b[0m\u001b[1;33m]\u001b[0m \u001b[1;31m## 只要第二列之後\u001b[0m\u001b[1;33m\u001b[0m\u001b[1;33m\u001b[0m\u001b[0m\n\u001b[0;32m     10\u001b[0m     \u001b[0mdf2\u001b[0m\u001b[1;33m.\u001b[0m\u001b[0mcolumns\u001b[0m \u001b[1;33m=\u001b[0m \u001b[0mdf2\u001b[0m\u001b[1;33m.\u001b[0m\u001b[0miloc\u001b[0m\u001b[1;33m[\u001b[0m\u001b[1;36m0\u001b[0m\u001b[1;33m]\u001b[0m \u001b[1;31m# 把第一列當作 columns 名稱\u001b[0m\u001b[1;33m\u001b[0m\u001b[1;33m\u001b[0m\u001b[0m\n",
      "\u001b[1;31mUnboundLocalError\u001b[0m: local variable 'df' referenced before assignment"
     ]
    }
   ],
   "source": [
    "\n",
    "if __name__ == \"__main__\":\n",
    "    main()"
   ]
  },
  {
   "cell_type": "code",
   "execution_count": 11,
   "metadata": {},
   "outputs": [
    {
     "ename": "ModuleNotFoundError",
     "evalue": "No module named 'urllib2'",
     "output_type": "error",
     "traceback": [
      "\u001b[1;31m---------------------------------------------------------------------------\u001b[0m",
      "\u001b[1;31mModuleNotFoundError\u001b[0m                       Traceback (most recent call last)",
      "\u001b[1;32m<ipython-input-11-546bde58542e>\u001b[0m in \u001b[0;36m<module>\u001b[1;34m\u001b[0m\n\u001b[0;32m      1\u001b[0m \u001b[1;31m# -*- coding: utf-8 -*-\u001b[0m\u001b[1;33m\u001b[0m\u001b[1;33m\u001b[0m\u001b[1;33m\u001b[0m\u001b[0m\n\u001b[0;32m      2\u001b[0m \u001b[1;32mimport\u001b[0m \u001b[0mre\u001b[0m\u001b[1;33m\u001b[0m\u001b[1;33m\u001b[0m\u001b[0m\n\u001b[1;32m----> 3\u001b[1;33m \u001b[1;32mimport\u001b[0m \u001b[0murllib2\u001b[0m\u001b[1;33m\u001b[0m\u001b[1;33m\u001b[0m\u001b[0m\n\u001b[0m\u001b[0;32m      4\u001b[0m \u001b[1;32mimport\u001b[0m \u001b[0mcsv\u001b[0m\u001b[1;33m\u001b[0m\u001b[1;33m\u001b[0m\u001b[0m\n\u001b[0;32m      5\u001b[0m \u001b[1;32mimport\u001b[0m \u001b[0mpandas\u001b[0m \u001b[1;32mas\u001b[0m \u001b[0mpd\u001b[0m\u001b[1;33m\u001b[0m\u001b[1;33m\u001b[0m\u001b[0m\n",
      "\u001b[1;31mModuleNotFoundError\u001b[0m: No module named 'urllib2'"
     ]
    }
   ],
   "source": [
    "\n",
    "# -*- coding: utf-8 -*-\n",
    "import re\n",
    "import urllib2\n",
    "import csv\n",
    "import pandas as pd\n",
    "\n",
    "def GetHtmlcode(ID):\n",
    "    # Get the webpage's source html code\n",
    "    source = 'http://goodinfo.tw/StockInfo/StockDetail.asp?STOCK_ID='\n",
    "    url = source + ID\n",
    "    #print url\n",
    "\n",
    "    # Header\n",
    "    headers = { 'User-Agent' : 'Mozilla/5.0 (X11; Linux x86_64) AppleWebKit/537.36 (KHTML, like Gecko) Chrome/31.0.1650.63 Safari/537.36',\n",
    "                'Accept' : 'text/html,application/xhtml+xml,application/xml;q=0.9,*/*;q=0.8',\n",
    "                'Accept-Charset' : 'Big5,utf-8;q=0.7,*;q=0.3',\n",
    "                #'Accept-Encoding' : 'gzip,deflate,sdch',\n",
    "                'Accept-Language' : 'zh-TW,zh;q=0.8,en-US;q=0.6,en;q=0.4,ja;q=0.2' ,\n",
    "                'Cache-Control' : 'max-age=0',\n",
    "                'Connection' : 'keep-alive',\n",
    "                'Cookie' : '427 bytes were stripped',\n",
    "                'Host' : 'www.goodinfo.tw',\n",
    "                'Referer' : url }\n",
    "\n",
    "    # 連到網頁抓取資料\n",
    "    req= urllib2.Request(url,\"\",headers)\n",
    "    response = urllib2.urlopen(req)\n",
    "    result = response.read().decode('utf-8')\n",
    "    #print result\n",
    "    return result\n",
    "\n",
    "def main():\n",
    "    page = GetHtmlcode('2103')\n",
    "    df=pd.read_html(page)\n",
    "    df2=pd.DataFrame(df[41])\n",
    "    df2 = df2[2:] ## 只要第二列之後\n",
    "    df2.columns = df2.iloc[0] # 把第一列當作 columns 名稱\n",
    "    df2 = df2.drop(df2.index[0]) # 刪除第一列 \n",
    "    df2.columns.name = ''\n",
    "    df2.index = range(len(df2)) # 重新產生 index \n",
    "    print(df2)\n",
    "\n",
    "if __name__ == \"__main__\":\n",
    "    main()"
   ]
  },
  {
   "cell_type": "code",
   "execution_count": null,
   "metadata": {},
   "outputs": [],
   "source": []
  },
  {
   "cell_type": "code",
   "execution_count": null,
   "metadata": {},
   "outputs": [],
   "source": []
  }
 ],
 "metadata": {
  "kernelspec": {
   "display_name": "Python 3",
   "language": "python",
   "name": "python3"
  },
  "language_info": {
   "codemirror_mode": {
    "name": "ipython",
    "version": 3
   },
   "file_extension": ".py",
   "mimetype": "text/x-python",
   "name": "python",
   "nbconvert_exporter": "python",
   "pygments_lexer": "ipython3",
   "version": "3.7.4"
  }
 },
 "nbformat": 4,
 "nbformat_minor": 4
}
